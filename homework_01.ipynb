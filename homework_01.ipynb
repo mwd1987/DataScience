{
  "nbformat": 4,
  "nbformat_minor": 0,
  "metadata": {
    "kernelspec": {
      "display_name": "Python 3",
      "language": "python",
      "name": "python3"
    },
    "language_info": {
      "codemirror_mode": {
        "name": "ipython",
        "version": 3
      },
      "file_extension": ".py",
      "mimetype": "text/x-python",
      "name": "python",
      "nbconvert_exporter": "python",
      "pygments_lexer": "ipython3",
      "version": "3.7.7"
    },
    "colab": {
      "name": "homework_01.ipynb",
      "provenance": [],
      "include_colab_link": true
    }
  },
  "cells": [
    {
      "cell_type": "markdown",
      "metadata": {
        "id": "view-in-github",
        "colab_type": "text"
      },
      "source": [
        "<a href=\"https://colab.research.google.com/github/mwd1987/DataScience/blob/master/homework_01.ipynb\" target=\"_parent\"><img src=\"https://colab.research.google.com/assets/colab-badge.svg\" alt=\"Open In Colab\"/></a>"
      ]
    },
    {
      "cell_type": "markdown",
      "metadata": {
        "id": "hOJLtrQbl2j8",
        "colab_type": "text"
      },
      "source": [
        "# Homework 1\n",
        "\n",
        "**Due 9/1/2020.**\n",
        "\n",
        "## References\n",
        "\n",
        "+ Lectures 1-2 (inclusive).\n",
        "\n",
        "## Instructions\n",
        "\n",
        "+ Type your name and email in the \"Student details\" section below.\n",
        "+ Develop the code and generate the figures you need to solve the problems using this notebook.\n",
        "+ For the answers that require a mathematical proof or derivation you can either:\n",
        "    \n",
        "    - Type the answer using the built-in latex capabilities. In this case, simply export the notebook as a pdf and upload it on gradescope; or\n",
        "    - You can print the notebook (after you are done with all the code), write your answers by hand, scan, turn your response to a single pdf, and upload on gradescope.\n",
        "\n",
        "+ The total homework points are 100. Please note that the problems are not weighed equally.\n",
        "\n",
        "**Note**: Please match all the pages corresponding to each of the questions when you submit on gradescope."
      ]
    },
    {
      "cell_type": "code",
      "metadata": {
        "id": "s9j9QY8ll2j-",
        "colab_type": "code",
        "colab": {
          "base_uri": "https://localhost:8080/",
          "height": 51
        },
        "outputId": "dc1c887b-1155-446f-cdd6-35e109bb56c2"
      },
      "source": [
        "%matplotlib inline\n",
        "import matplotlib.pyplot as plt\n",
        "import seaborn as sns\n",
        "sns.set_context('paper')\n",
        "import numpy as np"
      ],
      "execution_count": null,
      "outputs": [
        {
          "output_type": "stream",
          "text": [
            "/usr/local/lib/python3.6/dist-packages/statsmodels/tools/_testing.py:19: FutureWarning: pandas.util.testing is deprecated. Use the functions in the public API at pandas.testing instead.\n",
            "  import pandas.util.testing as tm\n"
          ],
          "name": "stderr"
        }
      ]
    },
    {
      "cell_type": "markdown",
      "metadata": {
        "id": "H5_Wbvcxl2kC",
        "colab_type": "text"
      },
      "source": [
        "## Student details\n",
        "\n",
        "+ **First Name:**Matthew\n",
        "+ **Last Name:**Doolittle\n",
        "+ **Email:**mdoolit@purdue.edu"
      ]
    },
    {
      "cell_type": "markdown",
      "metadata": {
        "id": "CksUGrKKl2kD",
        "colab_type": "text"
      },
      "source": [
        "## Problem 1\n",
        "\n",
        "This exercise demonstrates that probability theory is actually an extension of logic. Assume that you know that ``A implies B\". That is, your prior information is:\n",
        "$$\n",
        "I = \\{A \\implies B\\}.\n",
        "$$\n",
        "Please answer the following questions in the space provided:\n",
        "\n",
        "A. (4 points) $p(AB|I) = p(A|I)$.<br>\n",
        "**Proof:**\n",
        "## Answer:\n",
        "$$\n",
        "I= \\{A \\implies B\\}.$$\n",
        "If A occurs, then it is implied that B will also occur.<br>\n",
        "Therefore, we can state  $p(B|A,I)=1$, or we can absolutely certain that given A is true, B will also be true, knowing that A implies B.\n",
        "<br>Then, using the product rule: <br>\n",
        "$p(AB|I)=p(B|AI)p(A|I)$. <BR>Substituting \"1\" for $p(B|AI)$, we can see that $p(AB|I)=p(A|I)$.\n",
        "<br><br><br><br><br><br><br><br>\n"
      ]
    },
    {
      "cell_type": "code",
      "metadata": {
        "id": "OxZCr2j_pUyT",
        "colab_type": "code",
        "colab": {}
      },
      "source": [
        ""
      ],
      "execution_count": null,
      "outputs": []
    },
    {
      "cell_type": "markdown",
      "metadata": {
        "id": "XZLOq9CSpVcj",
        "colab_type": "text"
      },
      "source": [
        ""
      ]
    },
    {
      "cell_type": "markdown",
      "metadata": {
        "id": "Elw3J_zul2kD",
        "colab_type": "text"
      },
      "source": [
        "B. If $p(A|I) = 1$, then $p(B|I) = 1$.<br>\n",
        "**Proof:**\n",
        "<br>\n",
        "Again, knowing A implies B:\n",
        "<br>\n",
        "$p(B|A,I)=1$\n",
        "Therefore, since A is absolutely certain to occur, B is also absolutely certain to occur.\n",
        "<br>$I= \\{A \\implies B\\}$ ,therefore if $p(A|I)=1$, then $p(B|I)=1$.\n",
        "<br><br><br><br><br><br><br><br>"
      ]
    },
    {
      "cell_type": "markdown",
      "metadata": {
        "id": "iDIS9dkUl2kE",
        "colab_type": "text"
      },
      "source": [
        "C. If $p(B|I) = 0$, then $p(A|I) = 0$.<br>\n",
        "**Proof:**\n",
        "Using an extension of the same logic ($p(B|A,I)=1$):\n",
        "\n",
        "Given $p(B|I)=0$: <br>\n",
        "If we are absolutely certain that the statement B is false, if A implies B, then A must have been false.\n",
        "\n",
        "\n",
        "Note that the statements would not necessarily be valid if the order were reversed, ie \"if A is false, then B is false\". A implies B, but B can be true under other circumstances. <br>\n",
        "If B is false, A is false, but not necessarily the other way around.\n",
        "<br><br><br><br><br><br><br><br>"
      ]
    },
    {
      "cell_type": "markdown",
      "metadata": {
        "id": "4zsnL6Vtl2kE",
        "colab_type": "text"
      },
      "source": [
        "D. B and C show that probability theory is consistent with Aristotelian logic. Now, you will discover how it extends it. Show that if B is true, then A becomes more plausible, i.e.\n",
        "$$\n",
        "p(A|BI) \\geq p(A|I).\n",
        "$$\n",
        "**Proof:**<br>\n",
        "From the product rule: $p(A|BI)=p(AB|I)/p(B|I)$ and $p(AB|I)=p(B|AI)p(A|I)$ <br>\n",
        "Therefore, $p(A|BI)= (p(A|I)*p(B|AI) / p(B|I)$ <br>\n",
        "We assume in this scenario that B is absolutely certain to be true: $p(B|I)=1$<br> But we acknowledge that with normal probability rules, $0 \\leq p(B|I) \\leq 1$ <br>\n",
        "From \"A implies B\", we also know $p(B|AI)=1$ <br>\n",
        "From the updated equation, we can see that $p(A|BI)=p(A|I)/p(B|I)$<br>\n",
        "$p(A|BI)=p(A|I)$ when $p(B|I)=1$\n",
        "<br> From the ratio, $p(A|I)$ will never be greater than $p(A|BI)$ since p is never > 1.<br>\n",
        "Therefore, $p(A|BI) \\geq p(A|I)$, meaning given information about B, we are more confident in statement A.\n",
        "\n",
        "\n",
        "\n",
        "<br><br><br><br><br><br><br><br>"
      ]
    },
    {
      "cell_type": "markdown",
      "metadata": {
        "id": "qf3QIP0gl2kF",
        "colab_type": "text"
      },
      "source": [
        "E. Give at least two examples of D that apply to various scientific fields. To get you started, here are two examples:\n",
        "\n",
        "- $A$: It is raining. $B$: There are clouds in the sky. Clearly,  $A \\implies B$. $D$ tells us that if there are clouds in the sky, raining becomes more plausible.\n",
        "    \n",
        "- $A$: General relativity. $B$: Light is deflected in the presence of massive bodies. Here  $A \\implies B$. Observing that $B$ is true makes $A$ more plausible.\n",
        "\n",
        "**Answer:**\n",
        "\n",
        "- $A$: There is a fire burning in a fire pit. <br><br>\n",
        "  $B$: A fuel source, oxygen, and heat are present at the fire pit. <br>\\\n",
        "  A implies B, although B does not necessitate A. However, observing B is true makes A more plausible. <br><br>\n",
        "  \n",
        "- $A$: . <br><br>\n",
        "  $B$: <br>\n",
        "  "
      ]
    },
    {
      "cell_type": "markdown",
      "metadata": {
        "id": "ZQ4xUjRgl2kF",
        "colab_type": "text"
      },
      "source": [
        "F. Show that if $A$ is false, then $B$ becomes less plausible, i.e.: \n",
        "$$\n",
        "p(B|\\neg AI) \\leq p(B|I).\n",
        "$$\n",
        "**Proof:**<br>\n",
        "\n",
        "$p(A|I)=0$\n",
        "<br><br><br><br><br><br><br><br>"
      ]
    },
    {
      "cell_type": "markdown",
      "metadata": {
        "id": "t4LqVwZdl2kG",
        "colab_type": "text"
      },
      "source": [
        "G. Can you think of an example of scientific reasoning that involves F? For example:\n",
        "$A$: It is raining. $B$: There are clouds in the sky. F tells us that if it is not raining, then it is less plausible that there are clouds in the sky.<br>\n",
        "**Answer:**\n",
        "<br><br><br><br><br><br><br><br>"
      ]
    },
    {
      "cell_type": "markdown",
      "metadata": {
        "id": "qT74tKbJl2kG",
        "colab_type": "text"
      },
      "source": [
        "H. Do D and F contradict Karl Popper's [principle of falsification](https://en.wikipedia.org/wiki/Falsifiability), \"A theory in the empirical sciences can never be proven, but it can be falsified, meaning that it can and should be scrutinized by decisive experiments.\"<br>\n",
        "**Answer:**\n",
        "<br><br><br><br><br><br><br><br>"
      ]
    },
    {
      "cell_type": "markdown",
      "metadata": {
        "id": "0ll8BvUJl2kH",
        "colab_type": "text"
      },
      "source": [
        "## Problem 2\n",
        "\n",
        "Disclaimer: This example is a modified version of the one found in a 2013 lecture on Bayesian Scientific Computing taught by Prof. Nicholas Zabaras.\n",
        "I am not sure where the original problem is coming from.\n",
        "\n",
        "We are tasked with assessing the usefulness of a tuberculosis test.\n",
        "The prior information I is:\n",
        "\n",
        "> The percentage of the population infected by tuberculosis is 0.4\\%.\n",
        "We have run several experiments and determined that:\n",
        "+ If a tested patient has the disease, then 80\\% of the time the test comes out positive.\n",
        "+ If a tested patient does not have the disease, then 90\\% of the time the test comes out negative.\n",
        "\n",
        "To facilitate your analysis, consider the following logical sentences concerning a patient:\n",
        "\n",
        "> A: The patient is tested and the test is positive.\n",
        "\n",
        "> B: The patient has tuberculosis.\n",
        "\n",
        "A. Find the probability that the patient has tuberculosis (before looking at the result of the test), i.e., $p(B|I)$. This is known as the base rate or the prior probability.<br>\n",
        "**Answer:**<br>\n",
        "The answer is located within the statement \"the percentage of the population infected by tuberculosis is 0.4\\%\". <br> Therefore, before testing of any kind, $p(B|I)=0.004$\n",
        "\n",
        "\n",
        "<br><br><br><br><br><br><br><br>"
      ]
    },
    {
      "cell_type": "markdown",
      "metadata": {
        "id": "9blzXesbl2kH",
        "colab_type": "text"
      },
      "source": [
        "B. Find the probability that the test is positive given that the patient has tuberculosis, i.e., $p(A|B,I)$.<br>\n",
        "**Answer:**<br>\n",
        "\n",
        "$p(B|I)=1$ And in the text it is indicated that $p(A|BI)=0.8$\n",
        "<br><br><br><br><br><br><br><br>"
      ]
    },
    {
      "cell_type": "markdown",
      "metadata": {
        "id": "IU9DmHTdl2kI",
        "colab_type": "text"
      },
      "source": [
        "C. Find the probability that the test is positive given that the patient does not have tuberculosis, i.e., $p(A|\\neg B, I)$.<br>\n",
        "**Answer:**\n",
        "Using the \"Obvious Rule\" or $p(X) + p(\\neg X)=1$:\n",
        "<br>$p(\\neg A|\\neg BI)$ is indicated in the text to equal 0.9.<br>\n",
        "<br><br><br><br><br><br><br><br>"
      ]
    },
    {
      "cell_type": "markdown",
      "metadata": {
        "id": "PB-NYN0Yl2kI",
        "colab_type": "text"
      },
      "source": [
        "D. Find the probability that a patient that tested positive has tuberculosis, i.e., $p(B|A,I)$.<br>\n",
        "**Answer:**\n",
        "<br><br><br><br><br><br><br><br>"
      ]
    },
    {
      "cell_type": "markdown",
      "metadata": {
        "id": "WWuhAAZ5l2kJ",
        "colab_type": "text"
      },
      "source": [
        "E. Find the probability that a patient that tested negative has tuberculosis, i.e., $p(B|\\neg A, I)$. Does the test change our prior state of knowledge about about the patient? Is the test useful?<br>\n",
        "**Answer:**\n",
        "<br><br><br><br><br><br><br><br>"
      ]
    },
    {
      "cell_type": "markdown",
      "metadata": {
        "id": "B4urCy-ul2kJ",
        "colab_type": "text"
      },
      "source": [
        "F. What would a good test look like? Find values for \n",
        "$$\n",
        "p(A|B,I)= p(\\text{test is positive} |\\text{has tuberculosis},I),\n",
        "$$\n",
        "and\n",
        "$$\n",
        "p(A| \\neg B, I) = p(\\text{test is positive}|\\text{does not have tuberculosis}, I),\n",
        "$$\n",
        "so that\n",
        "$$\n",
        "p(B|A, I) = p(\\text{has tuberculosis}|\\text{test is positive}, I) = 0.99.\n",
        "$$\n",
        "There are more than one solutions. How would you pick a good one? Thinking in this way can help you set goals if you work in R\\&D. If you have time, try to figure out whether or not there exists such an accurate test for tuberculosis<br>\n",
        "**Answer:**\n",
        "<br><br><br><br><br><br><br><br>"
      ]
    }
  ]
}