{
  "nbformat": 4,
  "nbformat_minor": 0,
  "metadata": {
    "kernelspec": {
      "display_name": "Python 3",
      "language": "python",
      "name": "python3"
    },
    "language_info": {
      "codemirror_mode": {
        "name": "ipython",
        "version": 3
      },
      "file_extension": ".py",
      "mimetype": "text/x-python",
      "name": "python",
      "nbconvert_exporter": "python",
      "pygments_lexer": "ipython3",
      "version": "3.7.7"
    },
    "colab": {
      "name": "Doolittle HW02.ipynb",
      "provenance": [],
      "collapsed_sections": [],
      "include_colab_link": true
    }
  },
  "cells": [
    {
      "cell_type": "markdown",
      "metadata": {
        "id": "view-in-github",
        "colab_type": "text"
      },
      "source": [
        "<a href=\"https://colab.research.google.com/github/mwd1987/DataScience/blob/master/Doolittle_HW02.ipynb\" target=\"_parent\"><img src=\"https://colab.research.google.com/assets/colab-badge.svg\" alt=\"Open In Colab\"/></a>"
      ]
    },
    {
      "cell_type": "markdown",
      "metadata": {
        "id": "f3QWWmRUDHS1",
        "colab_type": "text"
      },
      "source": [
        "# Homework 2\n",
        "\n",
        "**Due 9/15/2020.**\n",
        "\n",
        "\n",
        "## References\n",
        "\n",
        "+ Lectures 3-6 (inclusive).\n",
        "\n",
        "## Instructions\n",
        "\n",
        "+ Type your name and email in the \"Student details\" section below.\n",
        "+ Develop the code and generate the figures you need to solve the problems using this notebook.\n",
        "+ For the answers that require a mathematical proof or derivation you can either:\n",
        "    \n",
        "    - Type the answer using the built-in latex capabilities. In this case, simply export the notebook as a pdf and upload it on gradescope; or\n",
        "    - You can print the notebook (after you are done with all the code), write your answers by hand, scan, turn your response to a single pdf, and upload on gradescope.\n",
        "\n",
        "\n",
        "**Note**: Please match all the pages corresponding to each of the questions when you submit on gradescope."
      ]
    },
    {
      "cell_type": "markdown",
      "metadata": {
        "id": "CLhcDrf4DHS3",
        "colab_type": "text"
      },
      "source": [
        "## Student details\n",
        "\n",
        "+ **First Name:**Matthew\n",
        "+ **Last Name:**Doolittle\n",
        "+ **Email:**mdoolit@purdue.edu"
      ]
    },
    {
      "cell_type": "code",
      "metadata": {
        "id": "QWeYeX3BDHS4",
        "colab_type": "code",
        "colab": {}
      },
      "source": [
        "# Here are some modules that you may need - please run this block of code:\n",
        "import matplotlib.pyplot as plt\n",
        "%matplotlib inline\n",
        "import seaborn as sns\n",
        "sns.set_context('paper')\n",
        "import numpy as np\n",
        "import scipy\n",
        "import scipy.stats as st\n",
        "# A helper function for downloading files\n",
        "import requests\n",
        "import os\n",
        "def download(url, local_filename=None):\n",
        "    \"\"\"\n",
        "    Downloads the file in the ``url`` and saves it in the current working directory.\n",
        "    \"\"\"\n",
        "    data = requests.get(url)\n",
        "    if local_filename is None:\n",
        "        local_filename = os.path.basename(url)\n",
        "    with open(local_filename, 'wb') as fd:\n",
        "        fd.write(data.content)"
      ],
      "execution_count": 110,
      "outputs": []
    },
    {
      "cell_type": "markdown",
      "metadata": {
        "id": "v_TWu2noDHS_",
        "colab_type": "text"
      },
      "source": [
        "## Problem 1 - Practice with discrete random variables\n",
        "\n",
        "Consider the Categorical random variable:\n",
        "$$\n",
        "X \\sim \\operatorname{Categorical}(0.3, 0.1, 0.2, 0.4),\n",
        "$$\n",
        "taking values in $\\{0,1,2,3\\}$. Find the following (you may use ``scipy.stats.rv_discrete`` or do it by hand):"
      ]
    },
    {
      "cell_type": "markdown",
      "metadata": {
        "id": "63zLM6tDDHTB",
        "colab_type": "text"
      },
      "source": [
        "A. The expectation $\\mathbb{E}[X]$.\n",
        "\n",
        "**Answer:**\n",
        "<br><br>"
      ]
    },
    {
      "cell_type": "code",
      "metadata": {
        "id": "ulxdi3h2DHTB",
        "colab_type": "code",
        "colab": {
          "base_uri": "https://localhost:8080/",
          "height": 283
        },
        "outputId": "baa1c31e-a42a-4e1d-a916-467952847871"
      },
      "source": [
        "Xk=np.arange(4)\n",
        "pk=(0.3,0.1,0.2,0.4)\n",
        "Prob1 = st.rv_discrete(name='Prob1', values=(Xk, pk))\n",
        "plt.plot(Xk,pk,'r')\n",
        "Expectation=Xk[0]*pk[0]+Xk[1]*pk[1]+Xk[2]*pk[2]+Xk[3]*pk[3]\n",
        "ExpX=np.round(Expectation, decimals=5,out=None)\n",
        "print(\"Expectation of X=\",ExpX)"
      ],
      "execution_count": 111,
      "outputs": [
        {
          "output_type": "stream",
          "text": [
            "Expectation of X= 1.7\n"
          ],
          "name": "stdout"
        },
        {
          "output_type": "display_data",
          "data": {
            "image/png": "[encoded data removed]",
            "text/plain": [
              "<Figure size 432x288 with 1 Axes>"
            ]
          },
          "metadata": {
            "tags": [],
            "needs_background": "light"
          }
        }
      ]
    },
    {
      "cell_type": "markdown",
      "metadata": {
        "id": "Dcb0V9Z3DHTF",
        "colab_type": "text"
      },
      "source": [
        "B. The variance $\\mathbb{V}[X]$.\n",
        "\n",
        "**Answer:**\n",
        "<br><br>"
      ]
    },
    {
      "cell_type": "code",
      "metadata": {
        "id": "AvOi8Q7kDHTG",
        "colab_type": "code",
        "colab": {
          "base_uri": "https://localhost:8080/",
          "height": 51
        },
        "outputId": "121d9d56-9d06-437d-b77d-d8413a6ad263"
      },
      "source": [
        "#Given Xk and pk\n",
        "\n",
        "ExpX2=Xk[1]*pk[1]+(Xk[2]**2)*pk[2]+(Xk[3]**2)*pk[3]\n",
        "Var=ExpX2-(ExpX**2)\n",
        "Varx=np.round(Var,decimals=5,out=None)\n",
        "print(\"Variance of X=\\n\",Varx)\n",
        "# Simpler method would be using rv.discrete function from scipy stats with X.var()\n",
        "# Will use this code in the future, this current method is more \"by hand\" to practice arrays"
      ],
      "execution_count": 112,
      "outputs": [
        {
          "output_type": "stream",
          "text": [
            "Variance of X=\n",
            " 1.61\n"
          ],
          "name": "stdout"
        }
      ]
    },
    {
      "cell_type": "markdown",
      "metadata": {
        "id": "1td087muDHTJ",
        "colab_type": "text"
      },
      "source": [
        "C. Plot the probability mass function of $X$."
      ]
    },
    {
      "cell_type": "code",
      "metadata": {
        "id": "talWnnu_DHTJ",
        "colab_type": "code",
        "colab": {
          "base_uri": "https://localhost:8080/",
          "height": 433
        },
        "outputId": "298a1977-f7f9-4d8c-ba2d-7e7e572aa334"
      },
      "source": [
        "X = st.rv_discrete(name='HWCategorical', values=(Xk, pk))\n",
        "print(\"Probability Mass Function of X is: \\n\",X.pmf(Xk))\n",
        "fig, ax = plt.subplots(dpi=100)\n",
        "ax.bar(Xk, X.pmf(Xk))\n",
        "ax.set_xlabel('$x$')\n",
        "ax.set_ylabel('$p(x)$')"
      ],
      "execution_count": 113,
      "outputs": [
        {
          "output_type": "stream",
          "text": [
            "Probability Mass Function of X is: \n",
            " [0.3 0.1 0.2 0.4]\n"
          ],
          "name": "stdout"
        },
        {
          "output_type": "execute_result",
          "data": {
            "text/plain": [
              "Text(0, 0.5, '$p(x)$')"
            ]
          },
          "metadata": {
            "tags": []
          },
          "execution_count": 113
        },
        {
          "output_type": "display_data",
          "data": {
            "image/png": "[encoded data removed]",
            "text/plain": [
              "<Figure size 600x400 with 1 Axes>"
            ]
          },
          "metadata": {
            "tags": [],
            "needs_background": "light"
          }
        }
      ]
    },
    {
      "cell_type": "markdown",
      "metadata": {
        "id": "_VRpDqJkDHTM",
        "colab_type": "text"
      },
      "source": [
        "D. Find the probability that $X$ is in $\\{0, 2\\}$.\n",
        "\n",
        "**Answer:**\n",
        "<br><br>"
      ]
    },
    {
      "cell_type": "code",
      "metadata": {
        "id": "DlX1sDAsDHTM",
        "colab_type": "code",
        "colab": {
          "base_uri": "https://localhost:8080/",
          "height": 34
        },
        "outputId": "15987c26-4bce-4be7-9d93-10dc020dde57"
      },
      "source": [
        "xprob=X.pmf(0)+X.pmf(1)+X.pmf(2)\n",
        "Xprob=np.round(xprob,decimals=5,out=None)\n",
        "print(\"Probability of X in {0,2} given by:\", Xprob)"
      ],
      "execution_count": 114,
      "outputs": [
        {
          "output_type": "stream",
          "text": [
            "Probability of X in {0,2} given by: 0.6\n"
          ],
          "name": "stdout"
        }
      ]
    },
    {
      "cell_type": "markdown",
      "metadata": {
        "id": "NUfi50v0DHTO",
        "colab_type": "text"
      },
      "source": [
        "E. Find $\\mathbb{E}[4X + 3]$.\n",
        "\n",
        "**Answer:**\n",
        "<br><br>"
      ]
    },
    {
      "cell_type": "code",
      "metadata": {
        "id": "QTdmsKZUDHTP",
        "colab_type": "code",
        "colab": {
          "base_uri": "https://localhost:8080/",
          "height": 51
        },
        "outputId": "3d7d79eb-8291-470e-9220-5ae941ae7a73"
      },
      "source": [
        "  # 𝔼[4𝑋+3]=𝔼[4𝑋]=4𝔼[𝑋]+3\n",
        "  ExpPartE=4*(X.expect())+3\n",
        "  print(\"E[4X+3]=\\n\",ExpPartE)"
      ],
      "execution_count": 115,
      "outputs": [
        {
          "output_type": "stream",
          "text": [
            "E[4X+3]=\n",
            " 9.8\n"
          ],
          "name": "stdout"
        }
      ]
    },
    {
      "cell_type": "markdown",
      "metadata": {
        "id": "xLRBLQmsDHTR",
        "colab_type": "text"
      },
      "source": [
        "F. Find $\\mathbb{V}[4X+3]$.\n",
        "\n",
        "**Answer:**\n",
        "<br><br>"
      ]
    },
    {
      "cell_type": "code",
      "metadata": {
        "id": "n36x4HR_DHTR",
        "colab_type": "code",
        "colab": {
          "base_uri": "https://localhost:8080/",
          "height": 51
        },
        "outputId": "108d200b-7950-4248-fdca-620fcb00c643"
      },
      "source": [
        "V=(4**2)*X.var()\n",
        "Var=np.round(V,decimals=5,out=None)\n",
        "print(\"V[4X+3]=\\n\", Var)"
      ],
      "execution_count": 116,
      "outputs": [
        {
          "output_type": "stream",
          "text": [
            "V[4X+3]=\n",
            " 25.76\n"
          ],
          "name": "stdout"
        }
      ]
    },
    {
      "cell_type": "markdown",
      "metadata": {
        "id": "EbqnuL0hDHTT",
        "colab_type": "text"
      },
      "source": [
        "## Problem 2 - Predicting the probability of major earthquakes in Southern California\n",
        "\n",
        "The [San Andreas fault](https://en.wikipedia.org/wiki/San_Andreas_Fault) extends through California forming the boundary between the Pacific and the North American tectonic plates.\n",
        "It has caused some of the major earthquakes on Earth.\n",
        "We are going to focus on Southern California and we would like to assess the probability of a major earthquake, defined as an earthquake of magnitude 6.5 or greater, during the next ten years.\n",
        "\n",
        "A. The first thing we are going to do is go over a [database of past earthquakes](https://scedc.caltech.edu/significant/chron-index.html) that have occured in Southern California and collect the relevant data. We are going to start at 1900 because data before that time may are unreliable.\n",
        "Go over each decade and count the occurence of a major earthquake (i.e., count the number of organge and red colors in each decade). We have done this for you."
      ]
    },
    {
      "cell_type": "code",
      "metadata": {
        "id": "DFZVy5byDHTU",
        "colab_type": "code",
        "colab": {
          "base_uri": "https://localhost:8080/",
          "height": 562
        },
        "outputId": "e0e0613e-bc47-47a6-de6f-2f434ff3ebd7"
      },
      "source": [
        "eq_data = np.array([\n",
        "    0, # 1900-1909\n",
        "    1, # 1910-1919\n",
        "    2, # 1920-1929\n",
        "    0, # 1930-1939\n",
        "    3, # 1940-1949\n",
        "    2, # 1950-1959\n",
        "    1, # 1960-1969\n",
        "    2, # 1970-1979\n",
        "    1, # 1980-1989\n",
        "    4, # 1990-1999\n",
        "    0, # 2000-2009\n",
        "    2 # 2010-2019 \n",
        "])\n",
        "fig, ax = plt.subplots(dpi=150)\n",
        "ax.bar(np.linspace(1900, 2019, eq_data.shape[0]), eq_data, width=10)\n",
        "ax.set_xlabel('Decade')\n",
        "ax.set_ylabel('# of major earthquakes in Southern CA');"
      ],
      "execution_count": 117,
      "outputs": [
        {
          "output_type": "display_data",
          "data": {
            "image/png": "[encoded data removed]",
            "text/plain": [
              "<Figure size 900x600 with 1 Axes>"
            ]
          },
          "metadata": {
            "tags": [],
            "needs_background": "light"
          }
        }
      ]
    },
    {
      "cell_type": "markdown",
      "metadata": {
        "id": "a4e5jRtRDHTV",
        "colab_type": "text"
      },
      "source": [
        "B. The [Poisson distribution](https://en.wikipedia.org/wiki/Poisson_distribution) is a discrete distribution with values $\\{0,1,2,\\dots\\}$ which is commonly used to model the number of events occuring in a certain time period.\n",
        "It is the right choice when these events are happening independently and the probability of any event happening over a small period of time is constant.\n",
        "Let's use the Poisson to model the number of earthquakes $X$ occuring in a decade.\n",
        "We write:\n",
        "$$\n",
        "X \\sim \\operatorname{Poisson}(r),\n",
        "$$\n",
        "where $r$ is the *rate parameter* of Poisson.\n",
        "The rate is the number of events per time period.\n",
        "Here, $r$ is the number of earthquakes per decade.\n",
        "Using the data above, we can set the rate as the empirical average of the observed number of earthquakes per decade:"
      ]
    },
    {
      "cell_type": "code",
      "metadata": {
        "id": "J7tw70MfDHTV",
        "colab_type": "code",
        "colab": {
          "base_uri": "https://localhost:8080/",
          "height": 34
        },
        "outputId": "49b079e0-31fd-4794-c4ae-5987c99fb321"
      },
      "source": [
        "r = np.mean(eq_data)\n",
        "print('r = {0:1.2f} major earthquakes per decade'.format(r))"
      ],
      "execution_count": 118,
      "outputs": [
        {
          "output_type": "stream",
          "text": [
            "r = 1.50 major earthquakes per decade\n"
          ],
          "name": "stdout"
        }
      ]
    },
    {
      "cell_type": "markdown",
      "metadata": {
        "id": "-c4qNorHDHTX",
        "colab_type": "text"
      },
      "source": [
        "Strictly speaking, **this is not how you should be calibrating models!!!**\n",
        "We will learn about the **right** way (which uses Bayes' rule) in the subsequent lectures.\n",
        "But it will do for now as the answer you would get using the **right** way is, for this problem, almost the same.\n",
        "Let's define a Poisson distribution using ``scipy.stats.poisson`` (see documentation [here](https://docs.scipy.org/doc/scipy/reference/generated/scipy.stats.poisson.html)):"
      ]
    },
    {
      "cell_type": "code",
      "metadata": {
        "id": "O4Yp87GqDHTX",
        "colab_type": "code",
        "colab": {}
      },
      "source": [
        "X = st.poisson(r)\n",
        "from scipy.stats import poisson"
      ],
      "execution_count": 119,
      "outputs": []
    },
    {
      "cell_type": "markdown",
      "metadata": {
        "id": "ZXpJ3MPlDHTY",
        "colab_type": "text"
      },
      "source": [
        "A. Plot the probability mass function of ``X``."
      ]
    },
    {
      "cell_type": "code",
      "metadata": {
        "id": "dRgu4BNADHTZ",
        "colab_type": "code",
        "colab": {
          "base_uri": "https://localhost:8080/",
          "height": 402
        },
        "outputId": "e194478c-b49c-4c63-fd7b-d242508c81d7"
      },
      "source": [
        "\n",
        "k=np.arange(20)\n",
        "#number of bins or instances\n",
        "#r=1.50\n",
        "fig, ax = plt.subplots(dpi=100)\n",
        "ax.bar(k, X.pmf(np.arange(20)))\n",
        "ax.set_xlabel('# of Earthquakes in a decade')\n",
        "ax.set_ylabel('Probability of certain # of earthquakes')\n"
      ],
      "execution_count": 120,
      "outputs": [
        {
          "output_type": "execute_result",
          "data": {
            "text/plain": [
              "Text(0, 0.5, 'Probability of certain # of earthquakes')"
            ]
          },
          "metadata": {
            "tags": []
          },
          "execution_count": 120
        },
        {
          "output_type": "display_data",
          "data": {
            "image/png": "[encoded data removed]",
            "text/plain": [
              "<Figure size 600x400 with 1 Axes>"
            ]
          },
          "metadata": {
            "tags": [],
            "needs_background": "light"
          }
        }
      ]
    },
    {
      "cell_type": "markdown",
      "metadata": {
        "id": "Aj3RJSM3DHTa",
        "colab_type": "text"
      },
      "source": [
        "B. What is the probability that at least one major earthquake will occur during the next decade?<br>\n",
        "**Answer:**\n",
        "<br><br><br><br><br><br><br><br>"
      ]
    },
    {
      "cell_type": "code",
      "metadata": {
        "id": "IkvQTkAFDHTb",
        "colab_type": "code",
        "colab": {
          "base_uri": "https://localhost:8080/",
          "height": 68
        },
        "outputId": "17b21a00-e630-4fa0-ec81-08ee4084dc89"
      },
      "source": [
        "#Probability of one or more can be P(1>inf) or 1-P(0)\n",
        "#Given that some of all probabilities is equal to one\n",
        "P_0=X.pmf(0) # Probability of no earthquakes in a decade\n",
        "P0=np.round(P_0,decimals=5,out=None)\n",
        "print(\"Probability of no earthquakes in a decade given by\", P0)\n",
        "P1ormore=1-P0 #Sum of total probability minus P(0)\n",
        "Answer=np.round(P1ormore,decimals=5,out=None)\n",
        "print('Probability of at least one = 1 - p(0) by obvious rule, which equals:\\n',Answer)"
      ],
      "execution_count": 121,
      "outputs": [
        {
          "output_type": "stream",
          "text": [
            "Probability of no earthquakes in a decade given by 0.22313\n",
            "Probability of at least one = 1 - p(0) by obvious rule, which equals:\n",
            " 0.77687\n"
          ],
          "name": "stdout"
        }
      ]
    },
    {
      "cell_type": "markdown",
      "metadata": {
        "id": "YgJHi3MjDHTc",
        "colab_type": "text"
      },
      "source": [
        "C. What is the probability that at least one major earthquake will occur during the next two decades?\n",
        "Hint: Consider two independent and identical copies of $X$, say $X_1$ and $X_2$.\n",
        "And consider their sum $Y = X_1 + X_2$. Read [this](https://en.wikipedia.org/wiki/Poisson_distribution#Sums_of_Poisson-distributed_random_variables) about the sum of two independent Poisson distributions.\n",
        "<br>\n",
        "**Answer:**\n",
        "<br><br><br><br><br><br><br><br>"
      ]
    },
    {
      "cell_type": "code",
      "metadata": {
        "id": "TFjuw7TWDHTc",
        "colab_type": "code",
        "colab": {
          "base_uri": "https://localhost:8080/",
          "height": 416
        },
        "outputId": "6440c8d2-c90f-4b5f-9dd3-babe9e884eec"
      },
      "source": [
        " Y=st.poisson(r+r)\n",
        " #sum r for 2 decades\n",
        "fig, ax = plt.subplots(dpi=100)\n",
        "ax.bar(k, Y.pmf(np.arange(20)))\n",
        "ax.set_xlabel('# of Earthquakes in 2 decades')\n",
        "ax.set_ylabel('Probability of certain # of earthquakes')\n",
        "\n",
        " PartC=1-Y.pmf(0)\n",
        " answer=np.round(PartC,decimals=5,out=None)\n",
        " print(\"Probability of at least one earthquake in 2 decades given by:\\n\",answer)\n"
      ],
      "execution_count": 122,
      "outputs": [
        {
          "output_type": "stream",
          "text": [
            "Probability of at least one earthquake in 2 decades given by:\n",
            " 0.95021\n"
          ],
          "name": "stdout"
        },
        {
          "output_type": "display_data",
          "data": {
            "image/png": "[encoded data removed]",
            "text/plain": [
              "<Figure size 600x400 with 1 Axes>"
            ]
          },
          "metadata": {
            "tags": [],
            "needs_background": "light"
          }
        }
      ]
    },
    {
      "cell_type": "markdown",
      "metadata": {
        "id": "HugLWtJ-DHTd",
        "colab_type": "text"
      },
      "source": [
        "D. What is the probability that at least one major earthquake will occur during the next five decades?<br>\n",
        "**Answer:**  Solved in Code below\n",
        "<br><br><br><br><br><br><br><br>"
      ]
    },
    {
      "cell_type": "code",
      "metadata": {
        "id": "nWRttPyTDHTe",
        "colab_type": "code",
        "colab": {
          "base_uri": "https://localhost:8080/",
          "height": 416
        },
        "outputId": "ffb37408-16d8-4181-b122-7b5dd2fe5714"
      },
      "source": [
        "Z=st.poisson(5*r)\n",
        "fig, ax = plt.subplots(dpi=100)\n",
        "ax.bar(k, Z.pmf(np.arange(20)))\n",
        "ax.set_xlabel('# of Earthquakes in 5 decades')\n",
        "ax.set_ylabel('Probability of certain # of earthquakes')\n",
        "zz=1-Z.pmf(0)\n",
        "p50yrs=np.round(zz,decimals=5,out=None)\n",
        "print(\"Probability of at least one in the next 50 yrs is highly likely to occur at:\\n\", p50yrs)"
      ],
      "execution_count": 123,
      "outputs": [
        {
          "output_type": "stream",
          "text": [
            "Probability of at least one in the next 50 yrs is highly likely to occur at:\n",
            " 0.99945\n"
          ],
          "name": "stdout"
        },
        {
          "output_type": "display_data",
          "data": {
            "image/png": "[encoded data removed]",
            "text/plain": [
              "<Figure size 600x400 with 1 Axes>"
            ]
          },
          "metadata": {
            "tags": [],
            "needs_background": "light"
          }
        }
      ]
    },
    {
      "cell_type": "markdown",
      "metadata": {
        "id": "_D8MJOs4DHTf",
        "colab_type": "text"
      },
      "source": [
        "## Problem 3 - Failure of a mechanical component\n",
        "\n",
        "Assume that you designing a gear for a mechanical system.\n",
        "Under normal operating conditions the gear is expected to fail at a random time.\n",
        "Let $T$ be a random variable capturing the time the gear fails.\n",
        "What should the probability density of $T$ look like?\n",
        "Well, when the gear is brand new, the probability density should be close to zero because a new gear does not fail under normal opearating conditions.\n",
        "As time goes by, the probability density should increase because various things start happening to the material, e.g., crack formation, fatigue, etc. \n",
        "Finally, the probability density must again start going to zero as time further increases because nothing lasts forever...\n",
        "A probability distribution that is commonly used to model this situation is the [Weibull](https://en.wikipedia.org/wiki/Weibull_distribution).\n",
        "We are going to fit some fail time data to a Weibull distribution and then you will have to answer a few questions about failing times."
      ]
    },
    {
      "cell_type": "code",
      "metadata": {
        "id": "rHR0hzpeDHTf",
        "colab_type": "code",
        "colab": {
          "base_uri": "https://localhost:8080/",
          "height": 403
        },
        "outputId": "0fd1358f-cbfc-461d-81f1-3d70d128be59"
      },
      "source": [
        "# Time to fail in years under normal operating conditions\n",
        "# Each row is a different gear\n",
        "time_to_fail_data = np.array([\n",
        "    10.5,\n",
        "    7.5,\n",
        "    8.1,\n",
        "    8.4,\n",
        "    11.2,\n",
        "    9.3,\n",
        "    8.9,\n",
        "    12.4\n",
        "])\n",
        "\n",
        "# Here is a Weibull distribution fitted to the data\n",
        "fitted_params = st.exponweib.fit(time_to_fail_data, loc=0)\n",
        "print(fitted_params)\n",
        "T = st.exponweib(*fitted_params)\n",
        "# Fit picks the parameters of the data to match the distribution\n",
        "# We will talk about what it does in subsequent lectures.\n",
        "\n",
        "# Let's plot the probability density of this\n",
        "fig, ax = plt.subplots(dpi=100)\n",
        "ts = np.linspace(0.0, 20.0, 100)\n",
        "ax.plot(ts, T.pdf(ts))\n",
        "ax.set_xlabel('$t$ (years)')\n",
        "ax.set_ylabel('$p(t)$');"
      ],
      "execution_count": 124,
      "outputs": [
        {
          "output_type": "stream",
          "text": [
            "(448.066965711728, 0.7099665338918923, 3.4218808260575804, 0.41627831297126994)\n"
          ],
          "name": "stdout"
        },
        {
          "output_type": "display_data",
          "data": {
            "image/png": "[encoded data removed]",
            "text/plain": [
              "<Figure size 600x400 with 1 Axes>"
            ]
          },
          "metadata": {
            "tags": [],
            "needs_background": "light"
          }
        }
      ]
    },
    {
      "cell_type": "markdown",
      "metadata": {
        "id": "IFFJH5XUDHTh",
        "colab_type": "text"
      },
      "source": [
        "A. Find the mean fail time and its variance.\n",
        "Hint: Do not integrate anything by hand. Just use the functionality of ``scipy.stats``."
      ]
    },
    {
      "cell_type": "code",
      "metadata": {
        "id": "BLsMhvqzDHTh",
        "colab_type": "code",
        "colab": {
          "base_uri": "https://localhost:8080/",
          "height": 85
        },
        "outputId": "b21426c1-9563-4fbe-abd6-d8ba0e5c9fc3"
      },
      "source": [
        "#Random variable initializes, calculate mean fail time and variance with T.expect() and T.var()\n",
        "print(\"Mean Fail Time Calculated as\",T.expect())\n",
        "print(\"Variance of T calculated as\",T.var())\n",
        "t_mean = 9.5288\n",
        "t_var = 2.884\n",
        "print('E[T] = {0:1.2f}'.format(t_mean))\n",
        "print('V[T] = {0:1.2f}'.format(t_var))"
      ],
      "execution_count": 125,
      "outputs": [
        {
          "output_type": "stream",
          "text": [
            "Mean Fail Time Calculated as 9.528841944192884\n",
            "Variance of T calculated as 2.884002267539595\n",
            "E[T] = 9.53\n",
            "V[T] = 2.88\n"
          ],
          "name": "stdout"
        }
      ]
    },
    {
      "cell_type": "markdown",
      "metadata": {
        "id": "Q2d5r17VDHTj",
        "colab_type": "text"
      },
      "source": [
        "B. Plot the cumulative distribution function of $T$."
      ]
    },
    {
      "cell_type": "code",
      "metadata": {
        "id": "6B5klyjiDHTj",
        "colab_type": "code",
        "colab": {
          "base_uri": "https://localhost:8080/",
          "height": 611
        },
        "outputId": "e3240444-1c2b-4544-a68f-7c534db50201"
      },
      "source": [
        "fig, ax = plt.subplots(dpi=150)\n",
        "ts = np.linspace(0.0, 20.0, 100)\n",
        "ax.plot(ts, T.cdf(ts))\n",
        "ax.set_xlabel('$t$ (years)')\n",
        "ax.set_ylabel('$p(t)$');\n",
        "ax.set_title(\"3B: CDF for Mean Time Until Failure\")"
      ],
      "execution_count": 127,
      "outputs": [
        {
          "output_type": "execute_result",
          "data": {
            "text/plain": [
              "Text(0.5, 1.0, '3B: CDF for Mean Time Until Failure')"
            ]
          },
          "metadata": {
            "tags": []
          },
          "execution_count": 127
        },
        {
          "output_type": "display_data",
          "data": {
            "image/png": "[encoded data removed]",
            "text/plain": [
              "<Figure size 900x600 with 1 Axes>"
            ]
          },
          "metadata": {
            "tags": [],
            "needs_background": "light"
          }
        }
      ]
    },
    {
      "cell_type": "markdown",
      "metadata": {
        "id": "lD_ROYSFDHTk",
        "colab_type": "text"
      },
      "source": [
        "C. Plot the probability that gear survives for more than $t$ as a function of $t$.\n",
        "That is, plot the function:\n",
        "$$\n",
        "S(t) = p(T > t).\n",
        "$$\n",
        "Hint: First connect this function to the cumulative distribution function of $T$."
      ]
    },
    {
      "cell_type": "code",
      "metadata": {
        "id": "twJpY2D4DHTl",
        "colab_type": "code",
        "colab": {}
      },
      "source": [
        "# St=p(T>t) = 1-cdf\n",
        "# Total probability=1 and CDF=p(T <=t). Therefore we can find 1-CDF and plo\n",
        "fig, ax = plt.subplots(dpi=150)\n",
        "ts = np.linspace(0.0, 20.0, 100)\n",
        "St=1-T.cdf(ts) #Defining the rest of the obvious rule\n",
        "ax.plot(ts, St) #plot t vs. S(t)\n",
        "ax.set_xlabel('$t$ (years)')\n",
        "ax.set_ylabel('$p(t)$');\n",
        "ax.set_title(\"3C: 1-T.cdf or p(T>t)\")\n",
        "\n"
      ],
      "execution_count": null,
      "outputs": []
    },
    {
      "cell_type": "markdown",
      "metadata": {
        "id": "j_un21A2DHTm",
        "colab_type": "text"
      },
      "source": [
        "D. Find the probability that the gear lasts anywhere between 8 and 10 years."
      ]
    },
    {
      "cell_type": "code",
      "metadata": {
        "id": "0LxdyREGDHTm",
        "colab_type": "code",
        "colab": {}
      },
      "source": [
        "#Probability of between 8 and 10 years - define the bounds of the analysis:\n",
        "A=8\n",
        "B=10\n",
        "Prob=T.cdf(10)-T.cdf(8)\n",
        "print('The probability of lasting between 8 and 10 years = {0:1.3f}'.format(Prob))\n",
        "\n"
      ],
      "execution_count": null,
      "outputs": []
    },
    {
      "cell_type": "markdown",
      "metadata": {
        "id": "QK9oCiW2DHTn",
        "colab_type": "text"
      },
      "source": [
        "E. If you were to sell the gear, how many years \"warranty\" would you offer?<br>\n",
        "**Answer:**<br>The warranty should be long enough to be attractive to the customer and give the appearance of a quality product.\n",
        "However, it should not be so long as to succomb to a large number of failures within the warranty period.\n",
        "If it is my choice, and perhaps it is a bit high, but I would select a 5% failure rate (or 95% pass rate) of parts\n",
        "before end of warranty period. We use T.ppf() to find this. Code is below.\n",
        "<br><br><br><br><br><br>"
      ]
    },
    {
      "cell_type": "code",
      "metadata": {
        "id": "3F3tnpFcDHTo",
        "colab_type": "code",
        "colab": {}
      },
      "source": [
        "The warranty should be long enough to be attractive to the customer and give the appearance of a quality product.\n",
        "However, it should not be so long as to succomb to a large number of failures within the warranty period.\n",
        "If it is my choice, and perhaps it is a bit high, but I would select a 5% failure rate (or 95% pass rate) of parts\n",
        "before end of warranty period. We use T.ppf() to find this.\n",
        "# 1-.95=0.05\n",
        "WarrantyLength=T.ppf(0.05)\n",
        "print(\"Length of Warranty set to {0:1.1f} years\".format(WarrantyLength))\n",
        "print('If rounding to a whole number, further reduce by a few warranty claims by stating a warranty of 7 years')"
      ],
      "execution_count": null,
      "outputs": []
    },
    {
      "cell_type": "markdown",
      "metadata": {
        "id": "JXYkDEe4DHTp",
        "colab_type": "text"
      },
      "source": [
        "## Problem 4 - Joint probability mass function of two discrete random variables\n",
        "\n",
        "Consider two random variables $X$ and $Y$.\n",
        "$X$ takes values $\\{0,1,\\dots,4\\}$ and $Y$ takes values $\\{0,1,\\dots,8\\}$.\n",
        "Their joint probability mass function, can be described using a matrix:"
      ]
    },
    {
      "cell_type": "code",
      "metadata": {
        "id": "M7k6VGLdDHTp",
        "colab_type": "code",
        "colab": {}
      },
      "source": [
        "P = np.array([[0.03607908, 0.03760034, 0.00503184, 0.0205082 , 0.01051408,\n",
        "        0.03776221, 0.00131325, 0.03760817, 0.01770659],\n",
        "       [0.03750162, 0.04317351, 0.03869997, 0.03069872, 0.02176718,\n",
        "        0.04778769, 0.01021053, 0.00324185, 0.02475319],\n",
        "       [0.03770951, 0.01053285, 0.01227089, 0.0339596 , 0.02296711,\n",
        "        0.02187814, 0.01925662, 0.0196836 , 0.01996279],\n",
        "       [0.02845139, 0.01209429, 0.02450163, 0.00874645, 0.03612603,\n",
        "        0.02352593, 0.00300314, 0.00103487, 0.04071951],\n",
        "       [0.00940187, 0.04633153, 0.01094094, 0.00172007, 0.00092633,\n",
        "        0.02032679, 0.02536328, 0.03552956, 0.01107725]])\n"
      ],
      "execution_count": null,
      "outputs": []
    },
    {
      "cell_type": "markdown",
      "metadata": {
        "id": "9Vvljr1ODHTq",
        "colab_type": "text"
      },
      "source": [
        "The rows of the matrix correspond to the values of $X$ and the columns to the values of $Y$.\n",
        "So, if you wanted to find the probability of $p(X=2, Y=3)$ you would do:"
      ]
    },
    {
      "cell_type": "code",
      "metadata": {
        "id": "7m9uRTVcDHTq",
        "colab_type": "code",
        "colab": {}
      },
      "source": [
        ""
      ],
      "execution_count": null,
      "outputs": []
    },
    {
      "cell_type": "markdown",
      "metadata": {
        "id": "Pj0Me012DHTs",
        "colab_type": "text"
      },
      "source": [
        "A. Verify that $\\sum_{x,y}p(X=x, Y=y) = 1$."
      ]
    },
    {
      "cell_type": "code",
      "metadata": {
        "id": "4G__IWYXDHTs",
        "colab_type": "code",
        "colab": {}
      },
      "source": [
        "# A quick way to verify is to sum up all X and Y components in the array through the np.sum function.\n",
        "# This verifies that for x-values of {0...4} and Y of {0...8}, the sum of probabilities is approx 1\n",
        "PXY=np.sum(P)\n",
        "Pxy=np.round(PXY,decimals=7,out=None)\n",
        "print(\"Verification:\",Pxy)"
      ],
      "execution_count": null,
      "outputs": []
    },
    {
      "cell_type": "markdown",
      "metadata": {
        "id": "eJHqMpPzDHTt",
        "colab_type": "text"
      },
      "source": [
        "B. Find the marginal probability density of $X$:\n",
        "$$\n",
        "p(x) = \\sum_{y}p(x,y).\n",
        "$$\n",
        "You can represent this as a 5-dimensional vector."
      ]
    },
    {
      "cell_type": "code",
      "metadata": {
        "id": "AelcnZ6QDHTt",
        "colab_type": "code",
        "colab": {}
      },
      "source": [
        "Xmarg=np.sum(P,1) #Selected Axis '1' to perform the sum along\n",
        "#help(np.sum)\n",
        "print(\"Marginal probability density =\\n\",Xmarg)\n",
        "sum=np.sum(Xmarg)\n",
        "print(\"Sum of vector elements=\",sum) #Noticed that the values add to essentially 1"
      ],
      "execution_count": null,
      "outputs": []
    },
    {
      "cell_type": "markdown",
      "metadata": {
        "id": "QC4ds2XoDHTu",
        "colab_type": "text"
      },
      "source": [
        "C. Find the marginal probability density of $Y$. This is a 9-dimensional vector."
      ]
    },
    {
      "cell_type": "code",
      "metadata": {
        "id": "59s-2ehFDHTu",
        "colab_type": "code",
        "colab": {}
      },
      "source": [
        "Ymarg=np.sum(P,0) #Summing along axis '0'\n",
        "print(\"Marginal probability density =\\n\",Ymarg)\n",
        "sum2=np.sum(Ymarg)\n",
        "print(\"Sum of vector elements=\",sum2) #Noticed that the values add to essentially 1"
      ],
      "execution_count": null,
      "outputs": []
    },
    {
      "cell_type": "markdown",
      "metadata": {
        "id": "qQvmgAlnDHTy",
        "colab_type": "text"
      },
      "source": [
        "D. Find the expectation and variance of $X$ and $Y$."
      ]
    },
    {
      "cell_type": "markdown",
      "metadata": {
        "id": "Y4S9q2UljwiH",
        "colab_type": "text"
      },
      "source": [
        ""
      ]
    },
    {
      "cell_type": "code",
      "metadata": {
        "id": "7ymZyuz8DHTz",
        "colab_type": "code",
        "colab": {}
      },
      "source": [
        "X=np.arange(5) #create array of possible X values\n",
        "# Solve for Expectation using known formula\n",
        "EX=X[1]*Xmarg[1]+X[2]*Xmarg[2]+X[3]*Xmarg[3]+X[4]*Xmarg[4] #first term X[0] multiplies by zero so it is not considered\n",
        "print(\"Expectation of X =\",EX)\n",
        "Y=np.arange(9) #Create array of possible Y values, solve equation using long method\n",
        "EY=Y[1]*Ymarg[1]+Y[2]*Ymarg[2]+Y[3]*Ymarg[3]+Y[4]*Ymarg[4]+Y[5]*Ymarg[5]+Y[6]*Ymarg[6]+Y[7]*Ymarg[7]+Y[8]*Ymarg[8]\n",
        "Ey=np.round(EY,decimals=5,out=None)\n",
        "print(\"\\nExpectation of Y =\",Ey)\n",
        "#Find Variances\n",
        "varx=(X[1]*Xmarg[1]+(X[2]**2)*Xmarg[2]+(X[3]**2)*Xmarg[3]+(X[4]**2)*Xmarg[4])-(EX**2)\n",
        "Varx=np.round(varx,decimals=5,out=None)\n",
        "print(\"\\nVariance of X =\",Varx)\n",
        "vary=(Y[1]*Ymarg[1]+(Y[2]**2)*Ymarg[2]+(Y[3]**2)*Ymarg[3]+(Y[4]**2)*Ymarg[4]+(Y[5]**2)*Ymarg[5]+(Y[6]**2)*Ymarg[6]+(Y[7]**2)*Ymarg[7]+(Y[8]**2)*Ymarg[8])-(EY**2)\n",
        "Vary=np.round(vary,decimals=5,out=None)\n",
        "print(\"\\nVariance of Y =\" ,Vary)"
      ],
      "execution_count": null,
      "outputs": []
    },
    {
      "cell_type": "markdown",
      "metadata": {
        "id": "jxz_z0oqDHT0",
        "colab_type": "text"
      },
      "source": [
        "E. Find the expectation of $E[X + Y]$."
      ]
    },
    {
      "cell_type": "code",
      "metadata": {
        "id": "kKICSSppDHT0",
        "colab_type": "code",
        "colab": {}
      },
      "source": [
        "#E[X]+E[Y]\n",
        "Exy=EX+EY\n",
        "EXY=np.round(Exy,decimals=5,out=None)\n",
        "print(\"E[X+Y]=\",EXY)"
      ],
      "execution_count": null,
      "outputs": []
    },
    {
      "cell_type": "markdown",
      "metadata": {
        "id": "mRX-wqZQDHT2",
        "colab_type": "text"
      },
      "source": [
        "F. Find the covariance of $X$ and $Y$. Are the two variable correlated? If yes, are they positively or negatively correlated?"
      ]
    },
    {
      "cell_type": "code",
      "metadata": {
        "id": "AFsJHZf8DHT3",
        "colab_type": "code",
        "colab": {}
      },
      "source": [
        "#Given values from previous parts of the problem for EX and EY\n",
        "# We will loop over all the possible values\n",
        "C_XY=0.0\n",
        "for x in range(4):\n",
        "    for y in range(8):\n",
        "        C_XY += (x - EX) * (y - EY) * P[x, y] \n",
        "print('C[X, Y] = {0:1.3f}'.format(C_XY))\n",
        "print(\"X and Y appear to be slightly positively correlated.\")"
      ],
      "execution_count": null,
      "outputs": []
    },
    {
      "cell_type": "markdown",
      "metadata": {
        "id": "gxtg6IkpDHUD",
        "colab_type": "text"
      },
      "source": [
        "G. Find the variance of $X + Y$."
      ]
    },
    {
      "cell_type": "code",
      "metadata": {
        "id": "Lrv-IXiADHUD",
        "colab_type": "code",
        "colab": {}
      },
      "source": [
        "# Variance of X+Y = V[X]+V[Y]+2C[X,Y]\n",
        "VXandY=Varx+Vary+2*C_XY\n",
        "print(\"The variance of X + Y is found to be {0:1.2f}\".format(VXandY))\n",
        "print('Which is different from just the sum of the individual variances')"
      ],
      "execution_count": null,
      "outputs": []
    },
    {
      "cell_type": "markdown",
      "metadata": {
        "id": "C-Z6j2O6DHUE",
        "colab_type": "text"
      },
      "source": [
        "J. Find the probability that $X+Y$ is less than or equal to 5.\n",
        "That is, find $p(X + Y \\le 5)$.\n",
        "Hint: Use two for loops to go over all the combinations of $X$ and $Y$ values, check if $X+Y\\le 5$, and sum up the probabilities."
      ]
    },
    {
      "cell_type": "code",
      "metadata": {
        "id": "5KnNCccjDHUE",
        "colab_type": "code",
        "colab": {}
      },
      "source": [
        "for x in range(4):\n",
        "  for y in range (8):\n",
        "    if x+y <=5:\n",
        "      print(\"An eligible value is\", P[x,y])   \n",
        "\n",
        "sumprob=0.478856909\n",
        "sum=np.round(sumprob,decimals=5,out=None)\n",
        "print('Sum of probability when X + Y <= 5 is',sum)"
      ],
      "execution_count": null,
      "outputs": []
    },
    {
      "cell_type": "markdown",
      "metadata": {
        "id": "hnn9UxeeDHUF",
        "colab_type": "text"
      },
      "source": [
        "## Problem 5 - Creating a stochastic model for the magnetic properties of steel\n",
        "\n",
        "The magnetic properties of steel are captured in the so called [$B-H$ curve](https://en.wikipedia.org/wiki/Saturation_(magnetic)) which connects the magnetic field $H$ to the magnetic flux density $B$.\n",
        "The shape of this curve depends on the manufacturing process of the steel. As a result the $B-H$ differs across different suppliers but alos across time for the same supplier.\n",
        "\n",
        "Let's use some real manufacturer data to visualize these differences.\n",
        "The data are [here](https://github.com/PredictiveScienceLab/data-analytics-se/raw/master/homework/B_data.csv).\n",
        "It will take a while to explain how to upload data on Google Colab.\n",
        "We will do it in the next homework set.\n",
        "For now, you should just know that the data file ``B_data.csv`` needs to be in the same working directory as this Jupyter notebook.\n",
        "We have written a piece of code that allows you to put the data file in the right place without too much trouble.\n",
        "Simply run the following:"
      ]
    },
    {
      "cell_type": "code",
      "metadata": {
        "id": "VJBgMWoGDHUF",
        "colab_type": "code",
        "colab": {}
      },
      "source": [
        "url = 'https://github.com/PredictiveScienceLab/data-analytics-se/raw/master/homework/B_data.csv'\n",
        "download(url)"
      ],
      "execution_count": null,
      "outputs": []
    },
    {
      "cell_type": "markdown",
      "metadata": {
        "id": "BP3S8jruDHUG",
        "colab_type": "text"
      },
      "source": [
        "If everything worked well, then the following will work:"
      ]
    },
    {
      "cell_type": "code",
      "metadata": {
        "id": "wbeqVefzDHUG",
        "colab_type": "code",
        "colab": {}
      },
      "source": [
        "# Load the data - You need the B_data.csv\n",
        "B_data = np.loadtxt('B_data.csv')\n",
        "# This file contains a single matrix the shape of which is:\n",
        "print(B_data.shape)"
      ],
      "execution_count": null,
      "outputs": []
    },
    {
      "cell_type": "markdown",
      "metadata": {
        "id": "cPEaT9cRDHUH",
        "colab_type": "text"
      },
      "source": [
        "The rows (200) corresponds to different samples of the $B-H$ curves (different suppliers and different times).\n",
        "The columns (1500) corresponds to different values of $H$.\n",
        "That is, the $i, j$ element is the value of $B$ at the a specific value of $H$, say $H_j$. The values of $H$ are the equidistant and identical and we are going to ignore them in this analysis.\n",
        "Let's visualize some of the samples."
      ]
    },
    {
      "cell_type": "code",
      "metadata": {
        "id": "4bZ_US8iDHUI",
        "colab_type": "code",
        "colab": {}
      },
      "source": [
        "# Here is one sample\n",
        "fig, ax = plt.subplots(dpi=100)\n",
        "ax.plot(B_data[0, :])\n",
        "ax.set_xlabel('Index $j$')\n",
        "ax.set_ylabel('$B$ (T)');"
      ],
      "execution_count": null,
      "outputs": []
    },
    {
      "cell_type": "code",
      "metadata": {
        "id": "PVqP2DU0DHUJ",
        "colab_type": "code",
        "colab": {}
      },
      "source": [
        "# Here are five samples\n",
        "fig, ax = plt.subplots(dpi=100)\n",
        "ax.plot(B_data[:5, :].T)\n",
        "ax.set_xlabel('Index $j$')\n",
        "ax.set_ylabel('$B$ (T)');"
      ],
      "execution_count": null,
      "outputs": []
    },
    {
      "cell_type": "code",
      "metadata": {
        "id": "E3BCHppmDHUK",
        "colab_type": "code",
        "colab": {}
      },
      "source": [
        "# Here are all the samples\n",
        "fig, ax = plt.subplots(dpi=100)\n",
        "ax.plot(B_data[:, :].T, 'r', lw=0.1)\n",
        "ax.set_xlabel('Index $j$')\n",
        "ax.set_ylabel('$B$ (T)');"
      ],
      "execution_count": null,
      "outputs": []
    },
    {
      "cell_type": "markdown",
      "metadata": {
        "id": "J80lPpXFDHUL",
        "colab_type": "text"
      },
      "source": [
        "A. We are going to start by studying the data at only one index. Say index $j=500$.\n",
        "Let's define a random variable\n",
        "$$\n",
        "X = B(H_{500}),\n",
        "$$\n",
        "for this reason. Extract and do a histogram of the data for $X$:"
      ]
    },
    {
      "cell_type": "code",
      "metadata": {
        "id": "LdeUOh23DHUL",
        "colab_type": "code",
        "colab": {}
      },
      "source": [
        "X_data = B_data[:, 500]\n",
        "fig, ax = plt.subplots(dpi=100)\n",
        "ax.hist(X_data, alpha=0.5, density=True)\n",
        "ax.set_xlabel('$x$')\n",
        "ax.set_ylabel('Histogram');\n"
      ],
      "execution_count": null,
      "outputs": []
    },
    {
      "cell_type": "markdown",
      "metadata": {
        "id": "WwEb9C8NDHUM",
        "colab_type": "text"
      },
      "source": [
        "This looks like a Gaussian $N(\\mu_{500}, \\sigma_{500}^2)$. Let's try to find a mean and variance for that Gaussian.\n",
        "We are not going to explain why, but a good choice for the mean is the empirical average of the data:\n",
        "$$\n",
        "\\mu_j = \\frac{1}{N}\\sum_{i=1}^NB_{ij}.\n",
        "$$\n",
        "That is:"
      ]
    },
    {
      "cell_type": "code",
      "metadata": {
        "id": "4oBjqHnMDHUM",
        "colab_type": "code",
        "colab": {}
      },
      "source": [
        "mu_500 = X_data.mean()\n",
        "print('mu_500 = {0:1.2f}'.format(mu_500))"
      ],
      "execution_count": null,
      "outputs": []
    },
    {
      "cell_type": "markdown",
      "metadata": {
        "id": "8MEuf64eDHUN",
        "colab_type": "text"
      },
      "source": [
        "Similarly, for the variance a good choice is the empirical variance defined by:\n",
        "$$\n",
        "\\sigma_j^2 = \\frac{1}{N}\\sum_{i=1}^N(B_{ij} - \\mu_j)^2.\n",
        "$$\n",
        "That is:"
      ]
    },
    {
      "cell_type": "code",
      "metadata": {
        "id": "JPKWiTNuDHUN",
        "colab_type": "code",
        "colab": {}
      },
      "source": [
        "sigma2_500 = np.var(X_data)#.var()\n",
        "print('sigma_500 = {0:1.2e}'.format(sigma2_500))"
      ],
      "execution_count": null,
      "outputs": []
    },
    {
      "cell_type": "markdown",
      "metadata": {
        "id": "XuT-cgQJDHUO",
        "colab_type": "text"
      },
      "source": [
        "Repeat the plot of the histogram of $X$ along with the PDF of the normal variable we have just identified using the functionality of ``scipy.stats``."
      ]
    },
    {
      "cell_type": "code",
      "metadata": {
        "id": "-v5sHjQvDHUO",
        "colab_type": "code",
        "colab": {}
      },
      "source": [
        "Xdata = B_data[:, 500]\n",
        "mean, stdev = st.norm.fit(Xdata)\n",
        "print(\"Mean is {0:1.4f}\".format(mean))\n",
        "print(\"Standard Deviation is {0:1.5f}\".format(stdev))\n",
        "PDF = st.norm.pdf(Xdata, mean, var)\n",
        "plt.hist(Xdata, density=True)\n",
        "plt.plot(Xdata,PDF,'rx') \n",
        "plt.xlabel(\"Histogram\")\n",
        "plt.ylabel(\"x\")\n",
        "plt.title('\\n Histogram and PDF of Normal Variable X using Scipy')\n"
      ],
      "execution_count": null,
      "outputs": []
    },
    {
      "cell_type": "markdown",
      "metadata": {
        "id": "LuY838BtDHUP",
        "colab_type": "text"
      },
      "source": [
        "B. Using your normal approximation to the PDF of $X$, find the probability that $X = B(H_{500})$ is geater than 1.66 T."
      ]
    },
    {
      "cell_type": "code",
      "metadata": {
        "id": "lY5u0T4EDHUP",
        "colab_type": "code",
        "colab": {}
      },
      "source": [
        "CDF=st.norm.cdf(1.66, loc=1.6104, scale=0.02724) #Inputs are target value, loc=mean, and scale=stdev solved in Part A\n",
        "print(\"CDF yields {0:1.4f}\".format(CDF))\n",
        "ProbX=1-CDF\n",
        "print('Probability that X=B(H500) is greater than 1.66T={0:1.4f}'.format(ProbX))\n"
      ],
      "execution_count": null,
      "outputs": []
    },
    {
      "cell_type": "markdown",
      "metadata": {
        "id": "ufPewQU7DHUP",
        "colab_type": "text"
      },
      "source": [
        "C. Let us now consider another random variable\n",
        "$$\n",
        "Y = B(H_{1000}).\n",
        "$$\n",
        "Isolate the data for this as well:"
      ]
    },
    {
      "cell_type": "code",
      "metadata": {
        "id": "plEI9joWDHUQ",
        "colab_type": "code",
        "colab": {}
      },
      "source": [
        "Y_data = B_data[:, 1000]"
      ],
      "execution_count": null,
      "outputs": []
    },
    {
      "cell_type": "markdown",
      "metadata": {
        "id": "IHpmTeQoDHUR",
        "colab_type": "text"
      },
      "source": [
        "Do the ``scatter`` plot of $X$ and $Y$:"
      ]
    },
    {
      "cell_type": "code",
      "metadata": {
        "id": "B-OqonqfDHUR",
        "colab_type": "code",
        "colab": {}
      },
      "source": [
        "fig, ax = plt.subplots(dpi=125)\n",
        "ax.scatter(X_data, Y_data)\n",
        "ax.set_xlabel(\"$X data$ $B(H500)$\")\n",
        "ax.set_ylabel(\"$Y data$ $B(H1000)$\")\n",
        "ax.set_title('Scatter Plot of X and Y with visible correlation')\n"
      ],
      "execution_count": null,
      "outputs": []
    },
    {
      "cell_type": "markdown",
      "metadata": {
        "id": "MCIR7Od0DHUR",
        "colab_type": "text"
      },
      "source": [
        "D. From the scatter plot, it looks like the random vector\n",
        "$$\n",
        "\\mathbf{X} = (X, Y),\n",
        "$$\n",
        "follows a multivariate normal distribution. What would be the mean and covariance of the distribution.\n",
        "Well, first organize the samples of $X$ and $Y$ in a matrix with the number of rows being the number of samples and two columns (one corresponding to $X$ and one to $Y$)."
      ]
    },
    {
      "cell_type": "code",
      "metadata": {
        "id": "PZKn4GBMDHUS",
        "colab_type": "code",
        "colab": {}
      },
      "source": [
        "XY_data = np.hstack([X_data[:, None], Y_data[:, None]])"
      ],
      "execution_count": null,
      "outputs": []
    },
    {
      "cell_type": "markdown",
      "metadata": {
        "id": "ULm05HMFDHUS",
        "colab_type": "text"
      },
      "source": [
        "The mean vector is:"
      ]
    },
    {
      "cell_type": "code",
      "metadata": {
        "id": "JXk4aVCDDHUT",
        "colab_type": "code",
        "colab": {}
      },
      "source": [
        "mu_XY = np.mean(XY_data, axis=0)\n",
        "print(mu_XY)"
      ],
      "execution_count": null,
      "outputs": []
    },
    {
      "cell_type": "markdown",
      "metadata": {
        "id": "j_Qcfn1TDHUU",
        "colab_type": "text"
      },
      "source": [
        "The covariance matrix is a little bit trickier. \n",
        "We have already discussed how to find the diagonals of the covariance matrix (it is simply the variance).\n",
        "For the off-diagonal terms, this is the formula that is being used:\n",
        "$$\n",
        "C_{jk} = \\frac{1}{N}\\sum_{i=1}^N(B_{ij} - \\mu_j)(B_{ik} - \\mu_k).\n",
        "$$\n",
        "This is how you can find it:"
      ]
    },
    {
      "cell_type": "code",
      "metadata": {
        "id": "_fbeBDg-DHUU",
        "colab_type": "code",
        "colab": {}
      },
      "source": [
        "# Careful with np.cov because it requires you to transpose the matrix\n",
        "C_XY = np.cov(XY_data.T)\n",
        "print(C_XY)"
      ],
      "execution_count": null,
      "outputs": []
    },
    {
      "cell_type": "markdown",
      "metadata": {
        "id": "fd0FMJEQDHUV",
        "colab_type": "text"
      },
      "source": [
        "Are the two variables $X$ and $Y$ positively or negatively correlated?<br>\n",
        "**Answer:**\n",
        "<br><br> From the matrix, the variables X and Y appear to be $positively$ $correlated$"
      ]
    },
    {
      "cell_type": "markdown",
      "metadata": {
        "id": "8yvkzvF4DHUV",
        "colab_type": "text"
      },
      "source": [
        "E. Use ``np.linalg.eigh`` to check that the matrix ``C_XY`` is indeed positive definite."
      ]
    },
    {
      "cell_type": "code",
      "metadata": {
        "id": "KKX6Q4boDHUV",
        "colab_type": "code",
        "colab": {}
      },
      "source": [
        "POSDEF=np.linalg.eigh(C_XY)\n",
        "print(\"The function returned:\\n\", POSDEF)\n",
        "# per scipy.stats info, the return from the function is an array of \n",
        "# eigenvalues in descending order, followed by the eigenvectors.\n",
        "# The eigenvalues are small but both positive\n",
        "print(\"\\nEigenvalues are small but positive, matrix is positive definite.\")\n"
      ],
      "execution_count": null,
      "outputs": []
    },
    {
      "cell_type": "markdown",
      "metadata": {
        "id": "cWJGyLc0DHUW",
        "colab_type": "text"
      },
      "source": [
        "F. Use the functionality of ``scipy.stats.multivariate_normal`` to plot the joint probability function of the samples of $X$ and $Y$ in the same plot as the scatter plot of $X$ and $Y$."
      ]
    },
    {
      "cell_type": "code",
      "metadata": {
        "id": "fDFW44SjDHUW",
        "colab_type": "code",
        "colab": {}
      },
      "source": [
        "X = st.multivariate_normal(mean=mu_XY, cov=C_XY)\n",
        "fig, ax = plt.subplots(dpi=150)\n",
        "\n",
        "xx = np.linspace(1.52, 1.68, 200)\n",
        "yy = np.linspace(1.6, 1.8, 200)\n",
        "XX, YY = np.meshgrid(xx, yy)\n",
        "Xf = np.hstack([XX.flatten()[:, None], YY.flatten()[:, None]])\n",
        "jpdf = X.pdf(Xf).reshape(XX.shape) #Calculating PDF\n",
        "c = ax.contour(XX, YY, jpdf) # Plotting Contours\n",
        "plt.colorbar(c, label='$p(\\mathbf{x,y})$')\n",
        "ax.plot(X_data,Y_data,'.', markersize=2)\n",
        "ax.plot(mu_XY[0], mu_XY[1], 'ro'); #Plot of the mean\n",
        "ax.set_xlabel('B500')\n",
        "ax.set_ylabel('B1000')\n",
        "ax.set_title('Joint Probability Function of Samples X and Y with Scatter Plot and Mean Designated')\n"
      ],
      "execution_count": null,
      "outputs": []
    },
    {
      "cell_type": "markdown",
      "metadata": {
        "id": "sLV9n-CXDHUX",
        "colab_type": "text"
      },
      "source": [
        "G. Now, let's think each $B-H$ curve as a random vector.\n",
        "That is, the random vector $\\mathbf{B}$ corresponds to the values of the magnetic flux density at a fixed number of $H$-values. It is:\n",
        "$$\n",
        "\\mathbf{B} = (B(H_1), \\dots, B(H_{1500})).\n",
        "$$\n",
        "It is like $\\mathbf{X} = (X, Y)$ only now we have 1500 dimensions instead of $2$.\n",
        "First, let's find the mean of this random vector:"
      ]
    },
    {
      "cell_type": "code",
      "metadata": {
        "id": "BkL6z8wgDHUX",
        "colab_type": "code",
        "colab": {}
      },
      "source": [
        "B_mu = np.mean(B_data, axis=0)\n",
        "# Let's plot the mean on top of the data\n",
        "# Here are all the samples\n",
        "fig, ax = plt.subplots(dpi=100)\n",
        "ax.plot(B_data[:, :].T, 'r', lw=0.1)\n",
        "ax.plot(B_mu)\n",
        "ax.set_xlabel('Index $j$')\n",
        "ax.set_ylabel('$B$ (T)');"
      ],
      "execution_count": null,
      "outputs": []
    },
    {
      "cell_type": "markdown",
      "metadata": {
        "id": "x5vs5dhVDHUY",
        "colab_type": "text"
      },
      "source": [
        "It looks good. Now, find the covariance matrix of $\\mathbf{B}$. This is going to be a 1500x1500 matrix."
      ]
    },
    {
      "cell_type": "code",
      "metadata": {
        "id": "BaDctcl4DHUY",
        "colab_type": "code",
        "colab": {}
      },
      "source": [
        "B_cov = np.cov(B_data.T)"
      ],
      "execution_count": null,
      "outputs": []
    },
    {
      "cell_type": "markdown",
      "metadata": {
        "id": "ros_umIgDHUZ",
        "colab_type": "text"
      },
      "source": [
        "Let's plot this matrix:"
      ]
    },
    {
      "cell_type": "code",
      "metadata": {
        "id": "KgWhxe-jDHUZ",
        "colab_type": "code",
        "colab": {}
      },
      "source": [
        "fig, ax = plt.subplots(dpi=100)\n",
        "c = ax.imshow(B_cov, interpolation='nearest')\n",
        "plt.colorbar(c)"
      ],
      "execution_count": null,
      "outputs": []
    },
    {
      "cell_type": "markdown",
      "metadata": {
        "id": "I_RLj4TeDHUa",
        "colab_type": "text"
      },
      "source": [
        "You see that the values are quite a bit correlated. This makes sense because the curves are all very smooth and they look very much alike. But let's check if the covariance is indeed positive definite:"
      ]
    },
    {
      "cell_type": "code",
      "metadata": {
        "id": "BJEcQob2DHUa",
        "colab_type": "code",
        "colab": {}
      },
      "source": [
        "print('Eigenvalues of B_cov:')\n",
        "print(np.linalg.eigh(B_cov)[0])"
      ],
      "execution_count": null,
      "outputs": []
    },
    {
      "cell_type": "markdown",
      "metadata": {
        "id": "hd405AARDHUb",
        "colab_type": "text"
      },
      "source": [
        "Hmm, notice that there are several eigenvalues that are negative, but they are too small. Very close to zero. This happens very often in practice when you are finding the covariance of a very large random vectors. It arises from the fact that we are using floating point arithmetic instead of a real numbers. It is a numerical artifact.\n",
        "If you tried to use this covariance to make a multivariate normal random vector using ``scipy.stats`` it would fail.\n",
        "Try this:"
      ]
    },
    {
      "cell_type": "code",
      "metadata": {
        "id": "a-l8VQwXDHUb",
        "colab_type": "code",
        "colab": {}
      },
      "source": [
        "B = st.multivariate_normal(mean=B_mu, cov=B_cov)"
      ],
      "execution_count": null,
      "outputs": []
    },
    {
      "cell_type": "markdown",
      "metadata": {
        "id": "yW9D1JUpDHUc",
        "colab_type": "text"
      },
      "source": [
        "The way to overcome this problem is to add a small positive number to the diagonal. This needs to be very small so that the distribution does not change very much. It must be the smallest possible number that makes the covariance matrix behave well. This is known as the *jitter* or the *nugget*. Find the nugget playing with the code below. Every time you try, multiply the nugget by ten."
      ]
    },
    {
      "cell_type": "code",
      "metadata": {
        "id": "Ez-GSClGDHUc",
        "colab_type": "code",
        "colab": {}
      },
      "source": [
        "# Pick the nugget here\n",
        "nugget = 1e-9\n",
        "print(\"THE SUCCESSFUL NUGGET VALUE WAS 1.0e-9\")\n",
        "# This is the modified covariance matrix\n",
        "B_cov_w_nugget = B_cov + nugget * np.eye(B_cov.shape[0])\n",
        "# Try building the distribution:\n",
        "try:\n",
        "    B = st.multivariate_normal(mean=B_mu, cov=B_cov_w_nugget)\n",
        "    print('It worked! Move on.')\n",
        "except:\n",
        "    print('It did not work. Increase nugget by 10.')"
      ],
      "execution_count": null,
      "outputs": []
    },
    {
      "cell_type": "markdown",
      "metadata": {
        "id": "03aPqU4EDHUd",
        "colab_type": "text"
      },
      "source": [
        "H. Now you have created your first stochastic model of a complicated physical quantity. By sampling from your newly constructed random vector $\\mathbf{B}$ you have essentially quantified your uncertainty about the $B-H$ curve as induced by the inability to perfectly control the production of steel. Take 10 samples of this random vector and plot them."
      ]
    },
    {
      "cell_type": "code",
      "metadata": {
        "id": "AKrCe11uDHUd",
        "colab_type": "code",
        "colab": {}
      },
      "source": [
        "b_samples=B.rvs(10)\n",
        "fig, ax = plt.subplots(dpi=100)\n",
        "ax.plot(b_samples.T) #transpose the array\n",
        "ax.set_xlabel('Index $j$')\n",
        "ax.set_ylabel('$B$ (T)');\n",
        "ax.set_title('Plot of 10 samples from Random Vector B')\n",
        "Shape=np.shape(b_samples)\n"
      ],
      "execution_count": null,
      "outputs": []
    }
  ]
}